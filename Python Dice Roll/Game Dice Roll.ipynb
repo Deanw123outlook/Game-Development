{
 "cells": [
  {
   "cell_type": "markdown",
   "metadata": {},
   "source": [
    "# Dice Rolling Game\n",
    "\n",
    "Using Python we will build a simple user-interface dice rolling game. \n",
    "\n",
    "The aim will be to build this game with a functional programming approach initially and then using an Object Orientated Programming Approach. This will help build skills primarily using OOP approach in Python and enable on completion to reflect and compare both approaches. \n",
    "\n",
    "Finally and lastly we will look to bring this onto the frontend using Django, HTML & CSS."
   ]
  },
  {
   "cell_type": "code",
   "execution_count": 1,
   "metadata": {},
   "outputs": [],
   "source": [
    "import numpy as np # import numerical python package\n",
    "import random #generate the pseudo-random variables"
   ]
  },
  {
   "cell_type": "markdown",
   "metadata": {},
   "source": [
    "DICE ROLLING GAME KEY FEATURES\n",
    "- Empty List will hold the dice rolls\n",
    "- range fucntion returns a sequence of numbers, starting from 0 by default, and increments by 1 (by default), and stops before a specified number\n",
    "- random.randint() method returns a random integer between the specified integers."
   ]
  },
  {
   "cell_type": "markdown",
   "metadata": {},
   "source": [
    "### Player One Game Details\n",
    "- Player One has six dice rolls\n",
    "- Add each value of the rolled dice to an empty list to compute the score"
   ]
  },
  {
   "cell_type": "markdown",
   "metadata": {},
   "source": [
    "### Python Code to Play Game"
   ]
  },
  {
   "cell_type": "code",
   "execution_count": 2,
   "metadata": {},
   "outputs": [],
   "source": [
    "# Create empty list for each player\n",
    "player_1 = [] # empty list to hold the data"
   ]
  },
  {
   "cell_type": "code",
   "execution_count": 3,
   "metadata": {},
   "outputs": [
    {
     "name": "stdout",
     "output_type": "stream",
     "text": [
      "Please roll the dice : PLAY\n",
      "Dice-Roll-Number : 1\n",
      "\n",
      "GAME INFORMATION\n",
      "Number : 0\n",
      "Please roll the dice : PLAY\n",
      "Dice-Roll-Number : 2\n",
      "\n",
      "GAME INFORMATION\n",
      "Number : 5\n",
      "Please roll the dice : PLAY\n",
      "Dice-Roll-Number : 3\n",
      "\n",
      "GAME INFORMATION\n",
      "Number : 2\n",
      "Please roll the dice : PLAY\n",
      "Dice-Roll-Number : 4\n",
      "\n",
      "GAME INFORMATION\n",
      "Number : 4\n",
      "Please roll the dice : PLAY\n",
      "Dice-Roll-Number : 5\n",
      "\n",
      "GAME INFORMATION\n",
      "Number : 2\n",
      "Please roll the dice : PLAY\n",
      "Dice-Roll-Number : 6\n",
      "\n",
      "GAME INFORMATION\n",
      "Number : 1\n"
     ]
    }
   ],
   "source": [
    "stop = 0 # intialize a default counter variable which will later help exit the while loop\n",
    "while stop <= 5: # intialize the while loop condition\n",
    "    print(\"Please roll the dice : \", end = '')\n",
    "    dice = input()\n",
    "    if dice == 'PLAY': # NOTE we are using a Python Comparison Operator (==) NOT Pythons assignment operator\n",
    "        print(\"Dice-Roll-Number :\", stop + 1) # add +1 to stop counter variable as remember zero indexing however the player doesnt need to know the iteration THEY wnat to know how many goes they have taken in the game\n",
    "        # Initiate for loop to generate random numbers\n",
    "        for i in range(0,1): # range() function  returns a sequence of numbers, starting from 0 by default, and increments by 1 (by default), and stops before a specified number\n",
    "            n = random.randint(0,5) # random.randint() method returns a random integer between the specified integers\n",
    "            player_1.append(n) # append(add) n to empty list\n",
    "            stop += 1 # increment the value of counter variable using the addition assignment operator (+=)\n",
    "            print(\"\")\n",
    "            print(\"GAME INFORMATION\")\n",
    "            print(\"Number :\", n)\n",
    "    else:\n",
    "        print(\"GAME-OVER\")"
   ]
  },
  {
   "cell_type": "markdown",
   "metadata": {},
   "source": [
    "### Player Score"
   ]
  },
  {
   "cell_type": "code",
   "execution_count": 4,
   "metadata": {},
   "outputs": [
    {
     "name": "stdout",
     "output_type": "stream",
     "text": [
      "Player Numbers : [0, 5, 2, 4, 2, 1]\n",
      "Player One Score : 14\n"
     ]
    }
   ],
   "source": [
    "print(\"Player Numbers :\", player_1)\n",
    "score = 0 # Variable will hold players score at the end of game\n",
    "for x in player_1: \n",
    "    score += x # increment each value via assignment operator to players total score\n",
    "print(\"Player One Score :\", int(score)) #casting to define score variable data type (note this is not needed just to show this)"
   ]
  },
  {
   "cell_type": "code",
   "execution_count": null,
   "metadata": {},
   "outputs": [],
   "source": []
  }
 ],
 "metadata": {
  "kernelspec": {
   "display_name": "Python 3",
   "language": "python",
   "name": "python3"
  },
  "language_info": {
   "codemirror_mode": {
    "name": "ipython",
    "version": 3
   },
   "file_extension": ".py",
   "mimetype": "text/x-python",
   "name": "python",
   "nbconvert_exporter": "python",
   "pygments_lexer": "ipython3",
   "version": "3.8.3"
  }
 },
 "nbformat": 4,
 "nbformat_minor": 4
}
