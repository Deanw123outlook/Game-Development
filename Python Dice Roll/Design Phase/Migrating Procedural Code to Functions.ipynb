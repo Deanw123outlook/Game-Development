{
 "cells": [
  {
   "cell_type": "markdown",
   "metadata": {},
   "source": [
    "### Migrating Procedural Code to Functions"
   ]
  },
  {
   "cell_type": "markdown",
   "metadata": {},
   "source": [
    "This phase of the project we will begin trasnferring our logical code into functions\n",
    "- This will be the first steps moving from a Procedural approcach to an Object Oriented Approach !"
   ]
  },
  {
   "cell_type": "code",
   "execution_count": 19,
   "metadata": {},
   "outputs": [],
   "source": [
    "import numpy as np # import numerical python for heavy mathematical computations\n",
    "import pandas as pd # import pandas for data manipulation and analysis\n",
    "import random # Python built-in module random enabling use of random numbers"
   ]
  },
  {
   "cell_type": "code",
   "execution_count": 20,
   "metadata": {},
   "outputs": [],
   "source": [
    "def max_players():\n",
    "    print(\"Max Players 4\")\n",
    "    print(\"Please input number of players : \", end = '')\n",
    "    global players # global keyword enables variable within function to become accesible from the global scope \n",
    "    players = input() # input() function enables user input & note default string input & output\n",
    "    print(\"Prior Casting Constructor Function : \",type(players)) # check input data type prior to int() constructor function \n",
    "    players = int(players) # CHANGE data type via CASTING constructor function in Python int()\n",
    "    print(\"Post Casting Constructor Function : \",type(players)) # check data type post int() function"
   ]
  },
  {
   "cell_type": "code",
   "execution_count": 21,
   "metadata": {},
   "outputs": [
    {
     "name": "stdout",
     "output_type": "stream",
     "text": [
      "Max Players 4\n",
      "Please input number of players : 2\n",
      "Prior Casting Constructor Function :  <class 'str'>\n",
      "Post Casting Constructor Function :  <class 'int'>\n"
     ]
    }
   ],
   "source": [
    "max_players()"
   ]
  },
  {
   "cell_type": "code",
   "execution_count": 22,
   "metadata": {},
   "outputs": [
    {
     "name": "stdout",
     "output_type": "stream",
     "text": [
      "[[], []]\n",
      "2\n"
     ]
    }
   ],
   "source": [
    "listx = [] # create an empty list (will hold lists)\n",
    "for i in range(players): # range function (start,stop,step)\n",
    "     listx.append([]) # append (add) empty lists to list\n",
    "print(listx) # print the list\n",
    "print(len(listx)) # print the lenght of list"
   ]
  },
  {
   "cell_type": "code",
   "execution_count": 25,
   "metadata": {},
   "outputs": [
    {
     "name": "stdout",
     "output_type": "stream",
     "text": [
      "NEW-GAME []\n",
      "NEW-GAME []\n"
     ]
    }
   ],
   "source": [
    "for x in listx:\n",
    "    "
   ]
  },
  {
   "cell_type": "code",
   "execution_count": 6,
   "metadata": {},
   "outputs": [],
   "source": [
    "def game():\n",
    "    stop = 0 # intialize a default counter variable which will later help exit the while loop (stopping the game)\n",
    "    while stop <= 5: # intialize the while loop condition with specific condition\n",
    "        print(\"Please roll the dice : \", end = '')\n",
    "        dice = input()\n",
    "        if dice == 'PLAY': # NOTE we are using a Python Comparison Operator (==) NOT Pythons assignment operator\n",
    "            print(\"Player-Dice-Roll-Number :\", stop + 1) # add +1 to stop counter variable as remember zero indexing however the player doesnt need to know the iteration THEY wnat to know how many goes they have taken in the game\n",
    "            # Initiate for loop to generate random numbers\n",
    "            for i in range(0,1): # range() function  returns a sequence of numbers, starting from 0 by default, and increments by 1 (by default), and stops before a specified number\n",
    "                n = random.randint(0,5) # random.randint() method returns a random integer between the specified integers\n",
    "                listx[0].append(n) # append(add) n to empty list\n",
    "                stop += 1 # increment the value of counter variable using the addition assignment operator (+=)\n",
    "                print(\"GAME INFORMATION\")\n",
    "                print(\"Number :\", n)\n",
    "                print(\"\")\n",
    "        else:\n",
    "            print(\"GAME-OVER\")\n",
    "            break # break keyword will terminate the current loop"
   ]
  },
  {
   "cell_type": "code",
   "execution_count": 7,
   "metadata": {},
   "outputs": [
    {
     "name": "stdout",
     "output_type": "stream",
     "text": [
      "Please roll the dice : PLAY\n",
      "Player-Dice-Roll-Number : 1\n",
      "GAME INFORMATION\n",
      "Number : 2\n",
      "\n",
      "Please roll the dice : PLAY\n",
      "Player-Dice-Roll-Number : 2\n",
      "GAME INFORMATION\n",
      "Number : 1\n",
      "\n",
      "Please roll the dice : PLAY\n",
      "Player-Dice-Roll-Number : 3\n",
      "GAME INFORMATION\n",
      "Number : 0\n",
      "\n",
      "Please roll the dice : PLAY\n",
      "Player-Dice-Roll-Number : 4\n",
      "GAME INFORMATION\n",
      "Number : 0\n",
      "\n",
      "Please roll the dice : PLAY\n",
      "Player-Dice-Roll-Number : 5\n",
      "GAME INFORMATION\n",
      "Number : 1\n",
      "\n",
      "Please roll the dice : PLAY\n",
      "Player-Dice-Roll-Number : 6\n",
      "GAME INFORMATION\n",
      "Number : 4\n",
      "\n"
     ]
    }
   ],
   "source": [
    "game()"
   ]
  },
  {
   "cell_type": "code",
   "execution_count": null,
   "metadata": {},
   "outputs": [],
   "source": []
  }
 ],
 "metadata": {
  "kernelspec": {
   "display_name": "Python 3",
   "language": "python",
   "name": "python3"
  },
  "language_info": {
   "codemirror_mode": {
    "name": "ipython",
    "version": 3
   },
   "file_extension": ".py",
   "mimetype": "text/x-python",
   "name": "python",
   "nbconvert_exporter": "python",
   "pygments_lexer": "ipython3",
   "version": "3.8.3"
  }
 },
 "nbformat": 4,
 "nbformat_minor": 4
}
