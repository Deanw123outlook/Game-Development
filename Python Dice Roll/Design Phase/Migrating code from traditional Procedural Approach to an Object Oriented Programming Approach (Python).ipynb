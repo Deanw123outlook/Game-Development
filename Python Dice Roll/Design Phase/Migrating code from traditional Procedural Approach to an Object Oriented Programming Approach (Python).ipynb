{
 "cells": [
  {
   "cell_type": "markdown",
   "metadata": {},
   "source": [
    "# Migrating code from a traditional Procedural Programming Approach to an Object Oriented Programming Approach (Python)"
   ]
  },
  {
   "cell_type": "markdown",
   "metadata": {},
   "source": [
    "###### Object Oriented Programing\n",
    "Objects in Python\n",
    "\n",
    "- Everything in Python is an object\n",
    "- Every object has a class\n",
    "\n",
    "\n",
    "\n",
    "- Use type() to find the class of an object\n",
    "- Use dir() to list all the attributes and methods that an object has, by calling this on the object name\n",
    "- Calling this function in the console will show all the documentation for an object\n",
    "\n",
    "###### Basic Info\n",
    "- Objects : state + behaviour\n",
    "- Classes : blueprint for objects outlining possible states and behaviours\n",
    "\n",
    "Remember a method is a function attached to an object\n",
    "\n",
    "When calling the method on an object IGNORE self ! Objects of a class dont yet exist when a class is being defined, however, we often need a way to refer to the data of a particular object within class definition. This is the purpose of the self keyword ! - stand in for a particular object used in class defintion !\n",
    "\n",
    "Constructor\n",
    "- Add data to an object when creating it\n",
    "- Constructor init() method is called every time and object is created\n",
    " \n",
    "Before proceeding it is useful to know the following about constructor __init__:\n",
    "- Makes it easire to know all the attributes\n",
    "- Attributes are created when the object is created\n",
    "- More usable and maintainable code\n",
    "\n",
    "BEST PRACTICES for writing classes\n",
    "- Initialize attributes using init() method\n",
    "- CamelCase for class defintion\n",
    "- low_snake_case for function and attribute defintion\n",
    "- Keep the self argument in Python as self\n",
    "- Use docstrings\n",
    "\n",
    "\n",
    "###### Project objectives & Goals\n",
    "- Code Testing and Readability\n",
    "- Cleaning Code\n",
    "- Migrating from Procedural Form to Object Oriented Programming Form"
   ]
  },
  {
   "cell_type": "markdown",
   "metadata": {},
   "source": [
    "##### Import required Libraries/Packages"
   ]
  },
  {
   "cell_type": "code",
   "execution_count": 14,
   "metadata": {},
   "outputs": [],
   "source": [
    "import numpy as np # import numerical python for heavy mathematical computations\n",
    "import pandas as pd # import pandas for data manipulation and analysis\n",
    "import random # Python built-in module random enabling use of random numbers"
   ]
  },
  {
   "cell_type": "markdown",
   "metadata": {},
   "source": [
    "##### FUNCTION user -interface for number of players"
   ]
  },
  {
   "cell_type": "code",
   "execution_count": 2,
   "metadata": {},
   "outputs": [],
   "source": [
    "def max_players():\n",
    "    #\n",
    "    print(\"Max Players 4\")\n",
    "    print(\"Please input number of players : \", end = '')\n",
    "    global players # global keyword enables variable within function to become accesible from the global scope \n",
    "    players = input() # input() function enables user input & note default string input & output\n",
    "    print(\"Prior Casting Constructor Function : \",type(players)) # check input data type prior to int() constructor function \n",
    "    players = int(players) # CHANGE data type via CASTING constructor function in Python int()\n",
    "    print(\"Post Casting Constructor Function : \",type(players)) # check data type post int() function\n",
    "    #\n",
    "    \n",
    "    #\n",
    "    print(\"\")\n",
    "    #\n",
    "    \n",
    "    #\n",
    "    global listx\n",
    "    listx = [] # create an empty list (will hold lists)\n",
    "    for i in range(players): # range function (start,stop,step)\n",
    "        listx.append([]) # append (add) empty lists to list\n",
    "    print(listx) # print the list\n",
    "    print(len(listx)) # print the lenght of list\n",
    "    #"
   ]
  },
  {
   "cell_type": "code",
   "execution_count": 3,
   "metadata": {},
   "outputs": [
    {
     "name": "stdout",
     "output_type": "stream",
     "text": [
      "Max Players 4\n",
      "Please input number of players : 3\n",
      "Prior Casting Constructor Function :  <class 'str'>\n",
      "Post Casting Constructor Function :  <class 'int'>\n",
      "\n",
      "[[], [], []]\n",
      "3\n"
     ]
    }
   ],
   "source": [
    "max_players()"
   ]
  },
  {
   "cell_type": "markdown",
   "metadata": {},
   "source": [
    "##### Create a class HOLDING our game logic\n",
    "\n",
    "CODE FEATURES\n",
    "\n",
    "end \" \"\n",
    "- The end parameter is used to change the default behavior of print() statement in Python. That is, since print() automatically inserts a newline after each execution. Therefore, using end this can change. The end parameter is basically used to customized or sometime interactive output.\n",
    "\n",
    "- Benefits of end Parameter in Python| Wwe can use end to skip insertion of an automatic newline. But we can also use it to insert one, two, or multiple newlines using one single print(). The examples given below, shows the use of end in every aspect.\n",
    "\n",
    "range function (start,stop,step)\n",
    "- returns a sequence of numbers, starting from 0 by default, and increments by 1 (by default), and stops before a specified\n",
    "            \n",
    "Create a Class using some key Python class Features\n",
    "- __init__() constructor method\n",
    "- self keyword\n",
    "- attribute creation"
   ]
  },
  {
   "cell_type": "code",
   "execution_count": 10,
   "metadata": {},
   "outputs": [],
   "source": [
    "class GameLogic: # initiate a Python Class\n",
    "    def __init__(self,player): # constructor __init__() method | self keyword acts as a stand-in\n",
    "        self.player = player # We create attributes using the the assignment operator (=) and dot notation syntax\n",
    "        STOP = 0 # intialize a counter variable which will later act/help exit the while loop (STOPPING the GAME)\n",
    "        while STOP <= 5: # initiate while based on a condition\n",
    "            print(\"Please roll the dice :\", end = \"\") \n",
    "            dice = input() # python input() allows user input | NOTE String, representing a default message before the input.\n",
    "            if dice == 'PLAY': # NOTE we are using a Python Comparison Operator (==) NOT Pythons assignment operator\n",
    "                print(\"Player-Dice-Roll\", STOP + 1) # increment +1 to counter variable (STOP) & remember zero indexing however the player doesnt need to know the iteration (OOP Abstraction) THEY want to know how many goes they have taken in the game\n",
    "                # Initiate for loop to generate random numbers\n",
    "                for i in range(0,1): # range() function  (start,stop,step)\n",
    "                    n = random.randint(0,5) # random.randint() method returns a random integer between the specified integers\n",
    "                    player.append(n) # append(add) n to empty list\n",
    "                    STOP += 1 # increment the value of counter variable using the addition assignment operator (+=)\n",
    "                    print(\"GAME-INFORMATION\")\n",
    "                    print(\"Number :\", n)\n",
    "                    print(\"\")\n",
    "            else:\n",
    "                print(\"GAME-OVER\")\n",
    "                break # break keyword will terminate the current loop"
   ]
  },
  {
   "cell_type": "code",
   "execution_count": 13,
   "metadata": {},
   "outputs": [
    {
     "name": "stdout",
     "output_type": "stream",
     "text": [
      "Please roll the dice :PLAY\n",
      "Player-Dice-Roll 1\n",
      "GAME-INFORMATION\n",
      "Number : 5\n",
      "\n",
      "Please roll the dice :PLAY\n",
      "Player-Dice-Roll 2\n",
      "GAME-INFORMATION\n",
      "Number : 1\n",
      "\n",
      "Please roll the dice :PLAY\n",
      "Player-Dice-Roll 3\n",
      "GAME-INFORMATION\n",
      "Number : 5\n",
      "\n",
      "Please roll the dice :PLAY\n",
      "Player-Dice-Roll 4\n",
      "GAME-INFORMATION\n",
      "Number : 3\n",
      "\n",
      "Please roll the dice :PLAY\n",
      "Player-Dice-Roll 5\n",
      "GAME-INFORMATION\n",
      "Number : 3\n",
      "\n",
      "Please roll the dice :PLAY\n",
      "Player-Dice-Roll 6\n",
      "GAME-INFORMATION\n",
      "Number : 2\n",
      "\n"
     ]
    }
   ],
   "source": [
    "first_game = GameLogic(listx[0]) # create a new object from the exisitng class "
   ]
  },
  {
   "cell_type": "markdown",
   "metadata": {},
   "source": [
    "We have succesfully migrated our CODE from a traditional Procedural Programming approach to an Object Oriented Programing Approach.\n",
    "- When we compare this code to previous phases using the procedural approach we can straight away see how this (OOP) approach completely reduces the use of repeated code when we want to initiate another game !"
   ]
  },
  {
   "cell_type": "code",
   "execution_count": null,
   "metadata": {},
   "outputs": [],
   "source": []
  }
 ],
 "metadata": {
  "kernelspec": {
   "display_name": "Python 3",
   "language": "python",
   "name": "python3"
  },
  "language_info": {
   "codemirror_mode": {
    "name": "ipython",
    "version": 3
   },
   "file_extension": ".py",
   "mimetype": "text/x-python",
   "name": "python",
   "nbconvert_exporter": "python",
   "pygments_lexer": "ipython3",
   "version": "3.8.3"
  }
 },
 "nbformat": 4,
 "nbformat_minor": 4
}
