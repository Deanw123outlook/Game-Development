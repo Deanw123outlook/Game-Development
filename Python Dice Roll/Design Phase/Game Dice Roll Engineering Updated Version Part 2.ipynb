{
 "cells": [
  {
   "cell_type": "markdown",
   "metadata": {},
   "source": [
    "### Game Dice Roll Engineering Updated Version Part 2\n",
    "\n",
    "Features\n",
    "- Rules - progressively updated \n",
    "- User-interface for deciding number of players\n",
    "- Automatically generate (n) number of lists from user input ie. number of players (List of lists)\n",
    "- Game Logic (Procedural Programing not focused on OOP yet!)\n",
    "- Score Analysis (Lists) and accumulation final score\n",
    "- Using the zip() & dict () functions to input our data into a dictionary \n",
    "- Input this dictionary into Pandas Dataframe & generating descriptive statistics\n",
    "\n",
    "Objectives for Next Phases of CODE !\n",
    "- Regarding game logic implement a while loop that will hold our GAME-LOGIC and hence mitigate REPEATED CODE\n",
    "- Experiment with MAtplotlib, Seaborn and Plotly\n",
    "- Delve into the realms of OOP and transfer our CODE which has been coded with a PROCEDURAL architecture into Object Orineted Programing !"
   ]
  },
  {
   "cell_type": "code",
   "execution_count": 1,
   "metadata": {},
   "outputs": [],
   "source": [
    "import numpy as np # import numerical python for heavy mathematical computations\n",
    "import pandas as pd # import pandas for data manipulation and analysis\n",
    "import random # Python built-in module random enabling use of random numbers"
   ]
  },
  {
   "cell_type": "markdown",
   "metadata": {},
   "source": [
    "###### RULES\n",
    "- Max Players : 4\n",
    "- Max Dice Rolls : 6\n",
    "- User must enter PLAY to intiate dice roll otherwise the GAME will END\n",
    "\n",
    "See User-Interface for deciding number of PLAYERS below !"
   ]
  },
  {
   "cell_type": "code",
   "execution_count": 2,
   "metadata": {},
   "outputs": [
    {
     "name": "stdout",
     "output_type": "stream",
     "text": [
      "Max Players 4\n",
      "Please input number of players : 4\n",
      "Prior Casting Constructor Function :  <class 'str'>\n",
      "Post Casting Constructor Function :  <class 'int'>\n"
     ]
    }
   ],
   "source": [
    "print(\"Max Players 4\")\n",
    "print(\"Please input number of players : \", end = '')\n",
    "players = input() # input() function enables user input & note default string input & output\n",
    "print(\"Prior Casting Constructor Function : \",type(players)) # check input data type prior to int() constructor function \n",
    "players = int(players) # CHANGE data type via CASTING constructor function in Python int()\n",
    "print(\"Post Casting Constructor Function : \",type(players)) # check data type post int() function"
   ]
  },
  {
   "cell_type": "markdown",
   "metadata": {},
   "source": [
    "Below we will use the above user input to create (n) number of lists which will be held within our main list."
   ]
  },
  {
   "cell_type": "code",
   "execution_count": 3,
   "metadata": {},
   "outputs": [
    {
     "name": "stdout",
     "output_type": "stream",
     "text": [
      "[[], [], [], []]\n",
      "4\n"
     ]
    }
   ],
   "source": [
    "listx = [] # create an empty list (will hold lists)\n",
    "for i in range(players): # range function (start,stop,step)\n",
    "     listx.append([]) # append (add) empty lists to list\n",
    "print(listx) # print the list\n",
    "print(len(listx)) # print the lenght of list"
   ]
  },
  {
   "cell_type": "markdown",
   "metadata": {},
   "source": [
    "We will need to use indexing (remember zero indexing) to access our list of lists to work with the individual lists !"
   ]
  },
  {
   "cell_type": "markdown",
   "metadata": {},
   "source": [
    "### Game Logic\n",
    "Rules \n",
    "- Max Players : 10\n",
    "- Max Dice Rolls : 6\n",
    "- User must enter PLAY to intiate dice roll otherwise the GAME will END"
   ]
  },
  {
   "cell_type": "code",
   "execution_count": 4,
   "metadata": {},
   "outputs": [
    {
     "name": "stdout",
     "output_type": "stream",
     "text": [
      "--PLAYER-1--\n",
      "Please roll the dice : PLAY\n",
      "Player-Dice-Roll-Number : 1\n",
      "GAME INFORMATION\n",
      "Number : 5\n",
      "\n",
      "Please roll the dice : PLAY\n",
      "Player-Dice-Roll-Number : 2\n",
      "GAME INFORMATION\n",
      "Number : 2\n",
      "\n",
      "Please roll the dice : PLAY\n",
      "Player-Dice-Roll-Number : 3\n",
      "GAME INFORMATION\n",
      "Number : 0\n",
      "\n",
      "Please roll the dice : PLAY\n",
      "Player-Dice-Roll-Number : 4\n",
      "GAME INFORMATION\n",
      "Number : 1\n",
      "\n",
      "Please roll the dice : PLAY\n",
      "Player-Dice-Roll-Number : 5\n",
      "GAME INFORMATION\n",
      "Number : 0\n",
      "\n",
      "Please roll the dice : PLAY\n",
      "Player-Dice-Roll-Number : 6\n",
      "GAME INFORMATION\n",
      "Number : 5\n",
      "\n"
     ]
    }
   ],
   "source": [
    "print(\"--PLAYER-1--\")\n",
    "stop = 0 # intialize a default counter variable which will later help exit the while loop (stopping the game)\n",
    "#\n",
    "while stop <= 5: # intialize the while loop condition with specific condition\n",
    "    print(\"Please roll the dice : \", end = '')\n",
    "    dice = input()\n",
    "    if dice == 'PLAY': # NOTE we are using a Python Comparison Operator (==) NOT Pythons assignment operator\n",
    "        print(\"Player-Dice-Roll-Number :\", stop + 1) # add +1 to stop counter variable as remember zero indexing however the player doesnt need to know the iteration THEY wnat to know how many goes they have taken in the game\n",
    "        # Initiate for loop to generate random numbers\n",
    "        for i in range(0,1): # range() function  returns a sequence of numbers, starting from 0 by default, and increments by 1 (by default), and stops before a specified number\n",
    "            n = random.randint(0,5) # random.randint() method returns a random integer between the specified integers\n",
    "            listx[0].append(n) # append(add) n to empty list\n",
    "            stop += 1 # increment the value of counter variable using the addition assignment operator (+=)\n",
    "            print(\"GAME INFORMATION\")\n",
    "            print(\"Number :\", n)\n",
    "            print(\"\")\n",
    "    else:\n",
    "        print(\"GAME-OVER\")\n",
    "        break # break keyword will terminate the current loop"
   ]
  },
  {
   "cell_type": "code",
   "execution_count": 5,
   "metadata": {},
   "outputs": [
    {
     "name": "stdout",
     "output_type": "stream",
     "text": [
      "--PLAYER-2--\n",
      "Please roll the dice : PLAY\n",
      "Player-Dice-Roll-Number : 1\n",
      "GAME INFORMATION\n",
      "Number : 4\n",
      "\n",
      "Please roll the dice : PLAY\n",
      "Player-Dice-Roll-Number : 2\n",
      "GAME INFORMATION\n",
      "Number : 4\n",
      "\n",
      "Please roll the dice : PLAY\n",
      "Player-Dice-Roll-Number : 3\n",
      "GAME INFORMATION\n",
      "Number : 2\n",
      "\n",
      "Please roll the dice : PLAY\n",
      "Player-Dice-Roll-Number : 4\n",
      "GAME INFORMATION\n",
      "Number : 3\n",
      "\n",
      "Please roll the dice : PLAY\n",
      "Player-Dice-Roll-Number : 5\n",
      "GAME INFORMATION\n",
      "Number : 1\n",
      "\n",
      "Please roll the dice : PLAY\n",
      "Player-Dice-Roll-Number : 6\n",
      "GAME INFORMATION\n",
      "Number : 0\n",
      "\n"
     ]
    }
   ],
   "source": [
    "print(\"--PLAYER-2--\")\n",
    "stop = 0 # intialize a default counter variable which will later help exit the while loop (stopping the game)\n",
    "#\n",
    "while stop <= 5: # intialize the while loop condition with specific condition\n",
    "    print(\"Please roll the dice : \", end = '')\n",
    "    dice = input()\n",
    "    if dice == 'PLAY': # NOTE we are using a Python Comparison Operator (==) NOT Pythons assignment operator\n",
    "        print(\"Player-Dice-Roll-Number :\", stop + 1) # add +1 to stop counter variable as remember zero indexing however the player doesnt need to know the iteration THEY wnat to know how many goes they have taken in the game\n",
    "        # Initiate for loop to generate random numbers\n",
    "        for i in range(0,1): # range() function  returns a sequence of numbers, starting from 0 by default, and increments by 1 (by default), and stops before a specified number\n",
    "            n = random.randint(0,5) # random.randint() method returns a random integer between the specified integers\n",
    "            listx[1].append(n) # append(add) n to empty list\n",
    "            stop += 1 # increment the value of counter variable using the addition assignment operator (+=)\n",
    "            print(\"GAME INFORMATION\")\n",
    "            print(\"Number :\", n)\n",
    "            print(\"\")\n",
    "    else:\n",
    "        print(\"GAME-OVER\")\n",
    "        break # break keyword will terminate the current loop"
   ]
  },
  {
   "cell_type": "code",
   "execution_count": 6,
   "metadata": {},
   "outputs": [
    {
     "name": "stdout",
     "output_type": "stream",
     "text": [
      "--PLAYER-3--\n",
      "Please roll the dice : PLAY\n",
      "Player-Dice-Roll-Number : 1\n",
      "GAME INFORMATION\n",
      "Number : 4\n",
      "\n",
      "Please roll the dice : PLAY\n",
      "Player-Dice-Roll-Number : 2\n",
      "GAME INFORMATION\n",
      "Number : 2\n",
      "\n",
      "Please roll the dice : PLAY\n",
      "Player-Dice-Roll-Number : 3\n",
      "GAME INFORMATION\n",
      "Number : 1\n",
      "\n",
      "Please roll the dice : PLAY\n",
      "Player-Dice-Roll-Number : 4\n",
      "GAME INFORMATION\n",
      "Number : 1\n",
      "\n",
      "Please roll the dice : PLAY\n",
      "Player-Dice-Roll-Number : 5\n",
      "GAME INFORMATION\n",
      "Number : 3\n",
      "\n",
      "Please roll the dice : PLAY\n",
      "Player-Dice-Roll-Number : 6\n",
      "GAME INFORMATION\n",
      "Number : 1\n",
      "\n"
     ]
    }
   ],
   "source": [
    "print(\"--PLAYER-3--\")\n",
    "stop = 0 # intialize a default counter variable which will later help exit the while loop (stopping the game)\n",
    "#\n",
    "while stop <= 5: # intialize the while loop condition with specific condition\n",
    "    print(\"Please roll the dice : \", end = '')\n",
    "    dice = input()\n",
    "    if dice == 'PLAY': # NOTE we are using a Python Comparison Operator (==) NOT Pythons assignment operator\n",
    "        print(\"Player-Dice-Roll-Number :\", stop + 1) # add +1 to stop counter variable as remember zero indexing however the player doesnt need to know the iteration THEY wnat to know how many goes they have taken in the game\n",
    "        # Initiate for loop to generate random numbers\n",
    "        for i in range(0,1): # range() function  returns a sequence of numbers, starting from 0 by default, and increments by 1 (by default), and stops before a specified number\n",
    "            n = random.randint(0,5) # random.randint() method returns a random integer between the specified integers\n",
    "            listx[2].append(n) # append(add) n to empty list\n",
    "            stop += 1 # increment the value of counter variable using the addition assignment operator (+=)\n",
    "            print(\"GAME INFORMATION\")\n",
    "            print(\"Number :\", n)\n",
    "            print(\"\")\n",
    "    else:\n",
    "        print(\"GAME-OVER\")\n",
    "        break # break keyword will terminate the current loop"
   ]
  },
  {
   "cell_type": "code",
   "execution_count": 7,
   "metadata": {},
   "outputs": [
    {
     "name": "stdout",
     "output_type": "stream",
     "text": [
      "--PLAYER-4--\n",
      "Please roll the dice : PLAY\n",
      "Player-Dice-Roll-Number : 1\n",
      "GAME INFORMATION\n",
      "Number : 3\n",
      "\n",
      "Please roll the dice : PLAY\n",
      "Player-Dice-Roll-Number : 2\n",
      "GAME INFORMATION\n",
      "Number : 1\n",
      "\n",
      "Please roll the dice : PLAY\n",
      "Player-Dice-Roll-Number : 3\n",
      "GAME INFORMATION\n",
      "Number : 0\n",
      "\n",
      "Please roll the dice : PLAY\n",
      "Player-Dice-Roll-Number : 4\n",
      "GAME INFORMATION\n",
      "Number : 5\n",
      "\n",
      "Please roll the dice : PLAY\n",
      "Player-Dice-Roll-Number : 5\n",
      "GAME INFORMATION\n",
      "Number : 4\n",
      "\n",
      "Please roll the dice : PLAY\n",
      "Player-Dice-Roll-Number : 6\n",
      "GAME INFORMATION\n",
      "Number : 5\n",
      "\n"
     ]
    }
   ],
   "source": [
    "print(\"--PLAYER-4--\")\n",
    "stop = 0 # intialize a default counter variable which will later help exit the while loop (stopping the game)\n",
    "#\n",
    "while stop <= 5: # intialize the while loop condition with specific condition\n",
    "    print(\"Please roll the dice : \", end = '')\n",
    "    dice = input()\n",
    "    if dice == 'PLAY': # NOTE we are using a Python Comparison Operator (==) NOT Pythons assignment operator\n",
    "        print(\"Player-Dice-Roll-Number :\", stop + 1) # add +1 to stop counter variable as remember zero indexing however the player doesnt need to know the iteration THEY wnat to know how many goes they have taken in the game\n",
    "        # Initiate for loop to generate random numbers\n",
    "        for i in range(0,1): # range() function  returns a sequence of numbers, starting from 0 by default, and increments by 1 (by default), and stops before a specified number\n",
    "            n = random.randint(0,5) # random.randint() method returns a random integer between the specified integers\n",
    "            listx[3].append(n) # append(add) n to empty list\n",
    "            stop += 1 # increment the value of counter variable using the addition assignment operator (+=)\n",
    "            print(\"GAME INFORMATION\")\n",
    "            print(\"Number :\", n)\n",
    "            print(\"\")\n",
    "    else:\n",
    "        print(\"GAME-OVER\")\n",
    "        break # break keyword will terminate the current loop"
   ]
  },
  {
   "cell_type": "markdown",
   "metadata": {},
   "source": [
    "### Scores\n",
    "Below we will accumulate the scores !"
   ]
  },
  {
   "cell_type": "code",
   "execution_count": 20,
   "metadata": {},
   "outputs": [
    {
     "name": "stdout",
     "output_type": "stream",
     "text": [
      "Player Individual Game Scores : [5, 2, 0, 1, 0, 5]\n",
      "Player One Overall Score : 13\n",
      "Player Individual Game Scores : [4, 4, 2, 3, 1, 0]\n",
      "Player Two Overall Score : 14\n",
      "Player Individual Game Scores : [4, 2, 1, 1, 3, 1]\n",
      "Player Three Overall Score : 12\n",
      "Player Individual Game Scores : [3, 1, 0, 5, 4, 5]\n",
      "Player Four Overall Score : 18\n"
     ]
    }
   ],
   "source": [
    "print(\"Player Individual Game Scores :\", listx[0])\n",
    "score_1 = 0 # Variable will hold players score at the end of game\n",
    "for x in listx[0]: \n",
    "    score_1 += x # increment each value via assignment operator to players total score\n",
    "    score_1 = int(score_1)\n",
    "print(\"Player One Overall Score :\", int(score_1)) #casting to define score variable data type (note this is not needed just to show this)\n",
    "\n",
    "\n",
    "\n",
    "print(\"Player Individual Game Scores :\", listx[1])\n",
    "score_2 = 0 \n",
    "for x in listx[1]: \n",
    "    score_2 += x\n",
    "    score_2 = int(score_2)\n",
    "print(\"Player Two Overall Score :\", int(score_2)) \n",
    "\n",
    "\n",
    "\n",
    "print(\"Player Individual Game Scores :\", listx[2])\n",
    "score_3 = 0 \n",
    "for x in listx[2]: \n",
    "    score_3 += x\n",
    "print(\"Player Three Overall Score :\", int(score_3)) \n",
    "\n",
    "\n",
    "\n",
    "print(\"Player Individual Game Scores :\", listx[3])\n",
    "score_4 = 0 \n",
    "for x in listx[3]: \n",
    "    score_4 += x\n",
    "print(\"Player Four Overall Score :\", int(score_4)) \n"
   ]
  },
  {
   "cell_type": "markdown",
   "metadata": {},
   "source": [
    "##### zip() & dict() function \n",
    "Below we will use the following functions to convert the list of lists (holding individual dice roll scores for each player) in a Dictionary in Python. \n",
    "- Use zip() and dict() to Convert Two Lists to Dictionary in Python\n",
    "\n",
    "Python built-in function zip()aggregates iterable data types into a tuple and returns it to the caller. The function dict() creates a dictionary out of the given collection. This will be useful fot inoutting our data into a pandas dataframe!\n",
    "\n",
    "\n",
    "NOTE\n",
    "It was attempted to input the list of lists into a pandas df without this the above functions but we ran into some issue's regarding the data positioning ie. players were situated on rows and scores were situated on columns which is not what we is required !\n",
    "\n",
    "See code used here !\n",
    "\n",
    "df = pd.DataFrame(listx)\n",
    "\n",
    "df.columns = ['Game-1', 'Game-2', 'Game-3','Game-4','Game-5','Game-6'] # rename columns\n",
    "\n",
    "df, df.describe()"
   ]
  },
  {
   "cell_type": "code",
   "execution_count": 10,
   "metadata": {},
   "outputs": [
    {
     "name": "stdout",
     "output_type": "stream",
     "text": [
      "{'PLAYER-1': [5, 2, 0, 1, 0, 5], 'PLAYER-2': [4, 4, 2, 3, 1, 0], 'PLAYER-3': [4, 2, 1, 1, 3, 1], 'PLAYER-4': [3, 1, 0, 5, 4, 5]}\n"
     ]
    }
   ],
   "source": [
    "list_keys = ['PLAYER-1', 'PLAYER-2', 'PLAYER-3','PLAYER-4'] # Setting names of columns \n",
    "dict_from_list = dict(zip(list_keys, listx)) # zip() and dict() convert list of lists to Dictionary in Python\n",
    "print(dict_from_list)"
   ]
  },
  {
   "cell_type": "markdown",
   "metadata": {},
   "source": [
    "### Creating a Pandas Dataframe\n",
    "The pandas dataframe object will hold the individual score on each row and inlcude the specific player in the columns !"
   ]
  },
  {
   "cell_type": "code",
   "execution_count": 11,
   "metadata": {},
   "outputs": [
    {
     "data": {
      "text/plain": [
       "(   PLAYER-1  PLAYER-2  PLAYER-3  PLAYER-4\n",
       " 0         5         4         4         3\n",
       " 1         2         4         2         1\n",
       " 2         0         2         1         0\n",
       " 3         1         3         1         5\n",
       " 4         0         1         3         4\n",
       " 5         5         0         1         5,\n",
       "        PLAYER-1  PLAYER-2  PLAYER-3  PLAYER-4\n",
       " count  6.000000  6.000000  6.000000  6.000000\n",
       " mean   2.166667  2.333333  2.000000  3.000000\n",
       " std    2.316607  1.632993  1.264911  2.097618\n",
       " min    0.000000  0.000000  1.000000  0.000000\n",
       " 25%    0.250000  1.250000  1.000000  1.500000\n",
       " 50%    1.500000  2.500000  1.500000  3.500000\n",
       " 75%    4.250000  3.750000  2.750000  4.750000\n",
       " max    5.000000  4.000000  4.000000  5.000000)"
      ]
     },
     "execution_count": 11,
     "metadata": {},
     "output_type": "execute_result"
    }
   ],
   "source": [
    "df = pd.DataFrame(dict_from_list) # Create pandas DataFrame object\n",
    "df, df.describe() # call the pandas dataframe & descriptive statistics"
   ]
  },
  {
   "cell_type": "code",
   "execution_count": null,
   "metadata": {},
   "outputs": [],
   "source": []
  }
 ],
 "metadata": {
  "kernelspec": {
   "display_name": "Python 3",
   "language": "python",
   "name": "python3"
  },
  "language_info": {
   "codemirror_mode": {
    "name": "ipython",
    "version": 3
   },
   "file_extension": ".py",
   "mimetype": "text/x-python",
   "name": "python",
   "nbconvert_exporter": "python",
   "pygments_lexer": "ipython3",
   "version": "3.8.3"
  }
 },
 "nbformat": 4,
 "nbformat_minor": 4
}
