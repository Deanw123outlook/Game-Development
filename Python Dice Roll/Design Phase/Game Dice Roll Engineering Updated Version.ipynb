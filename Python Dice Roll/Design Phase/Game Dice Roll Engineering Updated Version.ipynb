{
 "cells": [
  {
   "cell_type": "markdown",
   "metadata": {},
   "source": [
    "# Game Dice Roll Updated Version "
   ]
  },
  {
   "cell_type": "markdown",
   "metadata": {},
   "source": [
    "NOTE\n",
    "\n",
    "We are currently in the design and coding phase as ideas and other develop. The focus is procedural programing before taking steps into Object Orientated Programing. The reason for this is we are still in the design phase and working on code in which some challenges have arisen. \n",
    "\n",
    "We have also broken (DRY) rule DO NOT REPEAT CODE but as mentioned the focus on procedural programing to code up our project before moving into the realms of OOP.\n",
    "\n",
    "The aim is for our user interface system to manage an infinity or unknown number of players before the user interacts with. This is a work in progress as we solve some challenges. Finally, we will be using Plotly the popular interactive visualization library to visualize our data at the end !"
   ]
  },
  {
   "cell_type": "code",
   "execution_count": 1,
   "metadata": {},
   "outputs": [],
   "source": [
    "import numpy as np # import numerical python for heavy mathematical computations\n",
    "import pandas as pd # import pandas for data manipulation and analysis\n",
    "import random # Python built-in module random enabling use of random numbers"
   ]
  },
  {
   "cell_type": "markdown",
   "metadata": {},
   "source": [
    "### User-Interface System\n",
    "We want to find out how many players will be playing ?"
   ]
  },
  {
   "cell_type": "raw",
   "metadata": {},
   "source": [
    "print(\"Please input number of players : \", end = '')\n",
    "games = input() # input() function enables user input & note default string input & output\n",
    "print(\"Prior Casting Constructor Function : \",type(games)) # check input data type prior to int() constructor function \n",
    "games = int(games) # CHANGE data type via CASTING constructor function in Python int()\n",
    "print(\"Post Casting Constructor Function : \",type(games)) # check data type post int() function"
   ]
  },
  {
   "cell_type": "markdown",
   "metadata": {},
   "source": [
    "Next we want to use the input value to generate empty lists ! Note the above casting is pretty pointless in this use case as will be seen later in our code as all we need to ensure is the value is matching.... see later !"
   ]
  },
  {
   "cell_type": "raw",
   "metadata": {},
   "source": [
    "for i in range(0,games):\n",
    "    print(\"List Name : {} \".format(i))"
   ]
  },
  {
   "cell_type": "markdown",
   "metadata": {},
   "source": [
    "Currently cannot find solution that will allow us using the input (games) value to create individual empty lists that will hold game data and essentially be inputted into the Pandas Dataframe. This needs to be revisited !"
   ]
  },
  {
   "cell_type": "markdown",
   "metadata": {},
   "source": [
    "### (WORKAROUND) \n",
    "Below is the current workaround as we solve the above challenge !\n",
    "### Pre-Define empty lists to hold data"
   ]
  },
  {
   "cell_type": "code",
   "execution_count": 9,
   "metadata": {},
   "outputs": [],
   "source": [
    "# Create 6 empty Lists holding Data\n",
    "player_1, player_2, player_3, player_4, X5, X6 = [],[],[],[],[],[]"
   ]
  },
  {
   "cell_type": "markdown",
   "metadata": {},
   "source": [
    "### GAME LOGIC & USER INTERFACE"
   ]
  },
  {
   "cell_type": "markdown",
   "metadata": {},
   "source": [
    "Player One"
   ]
  },
  {
   "cell_type": "code",
   "execution_count": 3,
   "metadata": {},
   "outputs": [
    {
     "name": "stdout",
     "output_type": "stream",
     "text": [
      "Please roll the dice : PLAY\n",
      "Dice-Roll-Number : 1\n",
      "GAME INFORMATION\n",
      "Number : 5\n",
      "\n",
      "Please roll the dice : PLAY\n",
      "Dice-Roll-Number : 2\n",
      "GAME INFORMATION\n",
      "Number : 5\n",
      "\n",
      "Please roll the dice : PLAY\n",
      "Dice-Roll-Number : 3\n",
      "GAME INFORMATION\n",
      "Number : 0\n",
      "\n",
      "Please roll the dice : PLAY\n",
      "Dice-Roll-Number : 4\n",
      "GAME INFORMATION\n",
      "Number : 0\n",
      "\n",
      "Please roll the dice : PLAY\n",
      "Dice-Roll-Number : 5\n",
      "GAME INFORMATION\n",
      "Number : 4\n",
      "\n",
      "Please roll the dice : PLAY\n",
      "Dice-Roll-Number : 6\n",
      "GAME INFORMATION\n",
      "Number : 1\n",
      "\n"
     ]
    }
   ],
   "source": [
    "stop = 0 # intialize a default counter variable which will later help exit the while loop\n",
    "while stop <= 5: # intialize the while loop condition\n",
    "    print(\"Please roll the dice : \", end = '')\n",
    "    dice = input()\n",
    "    if dice == 'PLAY': # NOTE we are using a Python Comparison Operator (==) NOT Pythons assignment operator\n",
    "        print(\"Dice-Roll-Number :\", stop + 1) # add +1 to stop counter variable as remember zero indexing however the player doesnt need to know the iteration THEY wnat to know how many goes they have taken in the game\n",
    "        # Initiate for loop to generate random numbers\n",
    "        for i in range(0,1): # range() function  returns a sequence of numbers, starting from 0 by default, and increments by 1 (by default), and stops before a specified number\n",
    "            n = random.randint(0,5) # random.randint() method returns a random integer between the specified integers\n",
    "            player_1.append(n) # append(add) n to empty list\n",
    "            stop += 1 # increment the value of counter variable using the addition assignment operator (+=)\n",
    "            print(\"GAME INFORMATION\")\n",
    "            print(\"Number :\", n)\n",
    "            print(\"\")\n",
    "    else:\n",
    "        print(\"GAME-OVER\")\n"
   ]
  },
  {
   "cell_type": "markdown",
   "metadata": {},
   "source": [
    "Player Two"
   ]
  },
  {
   "cell_type": "code",
   "execution_count": 4,
   "metadata": {},
   "outputs": [
    {
     "name": "stdout",
     "output_type": "stream",
     "text": [
      "Please roll the dice : PLAY\n",
      "Dice-Roll-Number : 1\n",
      "GAME INFORMATION\n",
      "Number : 5\n",
      "\n",
      "Please roll the dice : PLAY\n",
      "Dice-Roll-Number : 2\n",
      "GAME INFORMATION\n",
      "Number : 3\n",
      "\n",
      "Please roll the dice : PLAY\n",
      "Dice-Roll-Number : 3\n",
      "GAME INFORMATION\n",
      "Number : 2\n",
      "\n",
      "Please roll the dice : PLAY\n",
      "Dice-Roll-Number : 4\n",
      "GAME INFORMATION\n",
      "Number : 4\n",
      "\n",
      "Please roll the dice : PLAY\n",
      "Dice-Roll-Number : 5\n",
      "GAME INFORMATION\n",
      "Number : 5\n",
      "\n",
      "Please roll the dice : PLAY\n",
      "Dice-Roll-Number : 6\n",
      "GAME INFORMATION\n",
      "Number : 4\n",
      "\n"
     ]
    }
   ],
   "source": [
    "stop = 0 # intialize a default counter variable which will later help exit the while loop\n",
    "while stop <= 5: # intialize the while loop condition\n",
    "    print(\"Please roll the dice : \", end = '')\n",
    "    dice = input()\n",
    "    if dice == 'PLAY': # NOTE we are using a Python Comparison Operator (==) NOT Pythons assignment operator\n",
    "        print(\"Dice-Roll-Number :\", stop + 1) # add +1 to stop counter variable as remember zero indexing however the player doesnt need to know the iteration THEY wnat to know how many goes they have taken in the game\n",
    "        # Initiate for loop to generate random numbers\n",
    "        for i in range(0,1): # range() function  returns a sequence of numbers, starting from 0 by default, and increments by 1 (by default), and stops before a specified number\n",
    "            n = random.randint(0,5) # random.randint() method returns a random integer between the specified integers\n",
    "            player_2.append(n) # append(add) n to empty list\n",
    "            stop += 1 # increment the value of counter variable using the addition assignment operator (+=)\n",
    "            print(\"GAME INFORMATION\")\n",
    "            print(\"Number :\", n)\n",
    "            print(\"\")\n",
    "    else:\n",
    "        print(\"GAME-OVER\")"
   ]
  },
  {
   "cell_type": "markdown",
   "metadata": {},
   "source": [
    "Player Three"
   ]
  },
  {
   "cell_type": "code",
   "execution_count": 5,
   "metadata": {},
   "outputs": [
    {
     "name": "stdout",
     "output_type": "stream",
     "text": [
      "Please roll the dice : PLAY\n",
      "Dice-Roll-Number : 1\n",
      "GAME INFORMATION\n",
      "Number : 5\n",
      "\n",
      "Please roll the dice : PLAY\n",
      "Dice-Roll-Number : 2\n",
      "GAME INFORMATION\n",
      "Number : 2\n",
      "\n",
      "Please roll the dice : PLAY\n",
      "Dice-Roll-Number : 3\n",
      "GAME INFORMATION\n",
      "Number : 2\n",
      "\n",
      "Please roll the dice : PLAY\n",
      "Dice-Roll-Number : 4\n",
      "GAME INFORMATION\n",
      "Number : 4\n",
      "\n",
      "Please roll the dice : PLAY\n",
      "Dice-Roll-Number : 5\n",
      "GAME INFORMATION\n",
      "Number : 3\n",
      "\n",
      "Please roll the dice : PLAY\n",
      "Dice-Roll-Number : 6\n",
      "GAME INFORMATION\n",
      "Number : 4\n",
      "\n"
     ]
    }
   ],
   "source": [
    "stop = 0 # intialize a default counter variable which will later help exit the while loop\n",
    "while stop <= 5: # intialize the while loop condition\n",
    "    print(\"Please roll the dice : \", end = '')\n",
    "    dice = input()\n",
    "    if dice == 'PLAY': # NOTE we are using a Python Comparison Operator (==) NOT Pythons assignment operator\n",
    "        print(\"Dice-Roll-Number :\", stop + 1) # add +1 to stop counter variable as remember zero indexing however the player doesnt need to know the iteration THEY wnat to know how many goes they have taken in the game\n",
    "        # Initiate for loop to generate random numbers\n",
    "        for i in range(0,1): # range() function  returns a sequence of numbers, starting from 0 by default, and increments by 1 (by default), and stops before a specified number\n",
    "            n = random.randint(0,5) # random.randint() method returns a random integer between the specified integers\n",
    "            player_3.append(n) # append(add) n to empty list\n",
    "            stop += 1 # increment the value of counter variable using the addition assignment operator (+=)\n",
    "            print(\"GAME INFORMATION\")\n",
    "            print(\"Number :\", n)\n",
    "            print(\"\")\n",
    "    else:\n",
    "        print(\"GAME-OVER\")"
   ]
  },
  {
   "cell_type": "markdown",
   "metadata": {},
   "source": [
    "Player Four"
   ]
  },
  {
   "cell_type": "code",
   "execution_count": 6,
   "metadata": {},
   "outputs": [
    {
     "name": "stdout",
     "output_type": "stream",
     "text": [
      "Please roll the dice : PLAY\n",
      "Dice-Roll-Number : 1\n",
      "GAME INFORMATION\n",
      "Number : 3\n",
      "\n",
      "Please roll the dice : PLAY\n",
      "Dice-Roll-Number : 2\n",
      "GAME INFORMATION\n",
      "Number : 4\n",
      "\n",
      "Please roll the dice : PLAY\n",
      "Dice-Roll-Number : 3\n",
      "GAME INFORMATION\n",
      "Number : 5\n",
      "\n",
      "Please roll the dice : PLAY\n",
      "Dice-Roll-Number : 4\n",
      "GAME INFORMATION\n",
      "Number : 3\n",
      "\n",
      "Please roll the dice : PLAY\n",
      "Dice-Roll-Number : 5\n",
      "GAME INFORMATION\n",
      "Number : 1\n",
      "\n",
      "Please roll the dice : PLAY\n",
      "Dice-Roll-Number : 6\n",
      "GAME INFORMATION\n",
      "Number : 2\n",
      "\n"
     ]
    }
   ],
   "source": [
    "stop = 0 # intialize a default counter variable which will later help exit the while loop\n",
    "while stop <= 5: # intialize the while loop condition\n",
    "    print(\"Please roll the dice : \", end = '')\n",
    "    dice = input()\n",
    "    if dice == 'PLAY': # NOTE we are using a Python Comparison Operator (==) NOT Pythons assignment operator\n",
    "        print(\"Dice-Roll-Number :\", stop + 1) # add +1 to stop counter variable as remember zero indexing however the player doesnt need to know the iteration THEY wnat to know how many goes they have taken in the game\n",
    "        # Initiate for loop to generate random numbers\n",
    "        for i in range(0,1): # range() function  returns a sequence of numbers, starting from 0 by default, and increments by 1 (by default), and stops before a specified number\n",
    "            n = random.randint(0,5) # random.randint() method returns a random integer between the specified integers\n",
    "            player_4.append(n) # append(add) n to empty list\n",
    "            stop += 1 # increment the value of counter variable using the addition assignment operator (+=)\n",
    "            print(\"GAME INFORMATION\")\n",
    "            print(\"Number :\", n)\n",
    "            print(\"\")\n",
    "    else:\n",
    "        print(\"GAME-OVER\")"
   ]
  },
  {
   "cell_type": "markdown",
   "metadata": {},
   "source": [
    "###### PLAYER SCORES"
   ]
  },
  {
   "cell_type": "code",
   "execution_count": 7,
   "metadata": {},
   "outputs": [
    {
     "name": "stdout",
     "output_type": "stream",
     "text": [
      "Player Numbers : [5, 5, 0, 0, 4, 1]\n",
      "Player One Score : 15\n",
      "Player Numbers : [5, 3, 2, 4, 5, 4]\n",
      "Player One Score : 23\n",
      "Player Numbers : [5, 2, 2, 4, 3, 4]\n",
      "Player One Score : 20\n",
      "Player Numbers : [3, 4, 5, 3, 1, 2]\n",
      "Player One Score : 18\n"
     ]
    }
   ],
   "source": [
    "#\n",
    "print(\"Player Numbers :\", player_1)\n",
    "score = 0 # Variable will hold players score at the end of game\n",
    "for x in player_1: \n",
    "    score += x # increment each value via assignment operator to players total score\n",
    "print(\"Player One Score :\", int(score)) #casting to define score variable data type (note this is not needed just to show this)\n",
    "\n",
    "#\n",
    "print(\"Player Numbers :\", player_2)\n",
    "score = 0 \n",
    "for x in player_2: \n",
    "    score += x\n",
    "print(\"Player One Score :\", int(score)) \n",
    "\n",
    "#\n",
    "print(\"Player Numbers :\", player_3)\n",
    "score = 0 \n",
    "for x in player_3: \n",
    "    score += x\n",
    "print(\"Player One Score :\", int(score)) \n",
    "\n",
    "#\n",
    "print(\"Player Numbers :\", player_4)\n",
    "score = 0 \n",
    "for x in player_4: \n",
    "    score += x\n",
    "print(\"Player One Score :\", int(score)) \n"
   ]
  },
  {
   "cell_type": "markdown",
   "metadata": {},
   "source": [
    "### Adding data (scores) to Pandas Dataframe"
   ]
  },
  {
   "cell_type": "code",
   "execution_count": 8,
   "metadata": {},
   "outputs": [
    {
     "name": "stdout",
     "output_type": "stream",
     "text": [
      "<class 'pandas.core.frame.DataFrame'>\n",
      "RangeIndex: 6 entries, 0 to 5\n",
      "Data columns (total 4 columns):\n",
      " #   Column    Non-Null Count  Dtype\n",
      "---  ------    --------------  -----\n",
      " 0   Player_1  6 non-null      int64\n",
      " 1   Player_2  6 non-null      int64\n",
      " 2   Player_3  6 non-null      int64\n",
      " 3   Player_4  6 non-null      int64\n",
      "dtypes: int64(4)\n",
      "memory usage: 320.0 bytes\n"
     ]
    },
    {
     "data": {
      "text/html": [
       "<div>\n",
       "<style scoped>\n",
       "    .dataframe tbody tr th:only-of-type {\n",
       "        vertical-align: middle;\n",
       "    }\n",
       "\n",
       "    .dataframe tbody tr th {\n",
       "        vertical-align: top;\n",
       "    }\n",
       "\n",
       "    .dataframe thead th {\n",
       "        text-align: right;\n",
       "    }\n",
       "</style>\n",
       "<table border=\"1\" class=\"dataframe\">\n",
       "  <thead>\n",
       "    <tr style=\"text-align: right;\">\n",
       "      <th></th>\n",
       "      <th>Player_1</th>\n",
       "      <th>Player_2</th>\n",
       "      <th>Player_3</th>\n",
       "      <th>Player_4</th>\n",
       "    </tr>\n",
       "  </thead>\n",
       "  <tbody>\n",
       "    <tr>\n",
       "      <th>0</th>\n",
       "      <td>5</td>\n",
       "      <td>5</td>\n",
       "      <td>5</td>\n",
       "      <td>3</td>\n",
       "    </tr>\n",
       "    <tr>\n",
       "      <th>1</th>\n",
       "      <td>5</td>\n",
       "      <td>3</td>\n",
       "      <td>2</td>\n",
       "      <td>4</td>\n",
       "    </tr>\n",
       "    <tr>\n",
       "      <th>2</th>\n",
       "      <td>0</td>\n",
       "      <td>2</td>\n",
       "      <td>2</td>\n",
       "      <td>5</td>\n",
       "    </tr>\n",
       "    <tr>\n",
       "      <th>3</th>\n",
       "      <td>0</td>\n",
       "      <td>4</td>\n",
       "      <td>4</td>\n",
       "      <td>3</td>\n",
       "    </tr>\n",
       "    <tr>\n",
       "      <th>4</th>\n",
       "      <td>4</td>\n",
       "      <td>5</td>\n",
       "      <td>3</td>\n",
       "      <td>1</td>\n",
       "    </tr>\n",
       "  </tbody>\n",
       "</table>\n",
       "</div>"
      ],
      "text/plain": [
       "   Player_1  Player_2  Player_3  Player_4\n",
       "0         5         5         5         3\n",
       "1         5         3         2         4\n",
       "2         0         2         2         5\n",
       "3         0         4         4         3\n",
       "4         4         5         3         1"
      ]
     },
     "metadata": {},
     "output_type": "display_data"
    },
    {
     "data": {
      "text/plain": [
       "None"
      ]
     },
     "metadata": {},
     "output_type": "display_data"
    },
    {
     "data": {
      "text/html": [
       "<div>\n",
       "<style scoped>\n",
       "    .dataframe tbody tr th:only-of-type {\n",
       "        vertical-align: middle;\n",
       "    }\n",
       "\n",
       "    .dataframe tbody tr th {\n",
       "        vertical-align: top;\n",
       "    }\n",
       "\n",
       "    .dataframe thead th {\n",
       "        text-align: right;\n",
       "    }\n",
       "</style>\n",
       "<table border=\"1\" class=\"dataframe\">\n",
       "  <thead>\n",
       "    <tr style=\"text-align: right;\">\n",
       "      <th></th>\n",
       "      <th>Player_1</th>\n",
       "      <th>Player_2</th>\n",
       "      <th>Player_3</th>\n",
       "      <th>Player_4</th>\n",
       "    </tr>\n",
       "  </thead>\n",
       "  <tbody>\n",
       "    <tr>\n",
       "      <th>count</th>\n",
       "      <td>6.000000</td>\n",
       "      <td>6.000000</td>\n",
       "      <td>6.000000</td>\n",
       "      <td>6.000000</td>\n",
       "    </tr>\n",
       "    <tr>\n",
       "      <th>mean</th>\n",
       "      <td>2.500000</td>\n",
       "      <td>3.833333</td>\n",
       "      <td>3.333333</td>\n",
       "      <td>3.000000</td>\n",
       "    </tr>\n",
       "    <tr>\n",
       "      <th>std</th>\n",
       "      <td>2.428992</td>\n",
       "      <td>1.169045</td>\n",
       "      <td>1.211060</td>\n",
       "      <td>1.414214</td>\n",
       "    </tr>\n",
       "    <tr>\n",
       "      <th>min</th>\n",
       "      <td>0.000000</td>\n",
       "      <td>2.000000</td>\n",
       "      <td>2.000000</td>\n",
       "      <td>1.000000</td>\n",
       "    </tr>\n",
       "    <tr>\n",
       "      <th>25%</th>\n",
       "      <td>0.250000</td>\n",
       "      <td>3.250000</td>\n",
       "      <td>2.250000</td>\n",
       "      <td>2.250000</td>\n",
       "    </tr>\n",
       "    <tr>\n",
       "      <th>50%</th>\n",
       "      <td>2.500000</td>\n",
       "      <td>4.000000</td>\n",
       "      <td>3.500000</td>\n",
       "      <td>3.000000</td>\n",
       "    </tr>\n",
       "    <tr>\n",
       "      <th>75%</th>\n",
       "      <td>4.750000</td>\n",
       "      <td>4.750000</td>\n",
       "      <td>4.000000</td>\n",
       "      <td>3.750000</td>\n",
       "    </tr>\n",
       "    <tr>\n",
       "      <th>max</th>\n",
       "      <td>5.000000</td>\n",
       "      <td>5.000000</td>\n",
       "      <td>5.000000</td>\n",
       "      <td>5.000000</td>\n",
       "    </tr>\n",
       "  </tbody>\n",
       "</table>\n",
       "</div>"
      ],
      "text/plain": [
       "       Player_1  Player_2  Player_3  Player_4\n",
       "count  6.000000  6.000000  6.000000  6.000000\n",
       "mean   2.500000  3.833333  3.333333  3.000000\n",
       "std    2.428992  1.169045  1.211060  1.414214\n",
       "min    0.000000  2.000000  2.000000  1.000000\n",
       "25%    0.250000  3.250000  2.250000  2.250000\n",
       "50%    2.500000  4.000000  3.500000  3.000000\n",
       "75%    4.750000  4.750000  4.000000  3.750000\n",
       "max    5.000000  5.000000  5.000000  5.000000"
      ]
     },
     "metadata": {},
     "output_type": "display_data"
    },
    {
     "data": {
      "text/plain": [
       "(6, 4)"
      ]
     },
     "metadata": {},
     "output_type": "display_data"
    }
   ],
   "source": [
    "#Create DataFrame including all above features and randomly generated data\n",
    "df = pd.DataFrame ({'Player_1':player_1,'Player_2':player_2,'Player_3':player_3,'Player_4':player_4})\n",
    "#create a copy of original dataframe ...(good practice)\n",
    "original_dataframe = df.copy(deep = True)\n",
    "\n",
    "#Display head of dataframe, dataset information, summary information & dataframe size\n",
    "display(df.head(), df.info(), df.describe(), df.shape)"
   ]
  },
  {
   "cell_type": "markdown",
   "metadata": {},
   "source": [
    "### Visualizations"
   ]
  },
  {
   "cell_type": "markdown",
   "metadata": {},
   "source": [
    "We will be focusing on Plotly and this will be in the next phase of this project !"
   ]
  },
  {
   "cell_type": "code",
   "execution_count": null,
   "metadata": {},
   "outputs": [],
   "source": []
  }
 ],
 "metadata": {
  "kernelspec": {
   "display_name": "Python 3",
   "language": "python",
   "name": "python3"
  },
  "language_info": {
   "codemirror_mode": {
    "name": "ipython",
    "version": 3
   },
   "file_extension": ".py",
   "mimetype": "text/x-python",
   "name": "python",
   "nbconvert_exporter": "python",
   "pygments_lexer": "ipython3",
   "version": "3.8.3"
  }
 },
 "nbformat": 4,
 "nbformat_minor": 4
}
